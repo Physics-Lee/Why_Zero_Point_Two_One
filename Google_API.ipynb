{
 "cells": [
  {
   "cell_type": "code",
   "execution_count": null,
   "id": "1329a902",
   "metadata": {},
   "outputs": [
    {
     "name": "stdout",
     "output_type": "stream",
     "text": [
      "Starting calculations...\n",
      "Testing 10.11 - 10.9...\n",
      "    PROMPT for Trial 1:\n",
      "    User: 10.11 - 10.9 = ? Only answer the result, without any explanatory text.\n",
      "\n"
     ]
    }
   ],
   "source": [
    "import numpy as np\n",
    "import pandas as pd\n",
    "import google.generativeai as genai\n",
    "import time\n",
    "\n",
    "# Initialize the Google Gemini client\n",
    "genai.configure(api_key=\"\")  # Replace with your actual API key\n",
    "model = genai.GenerativeModel('gemini-1.5-flash')  # Using flash model for faster responses\n",
    "\n",
    "# Function to get calculation result from Google API\n",
    "def get_calculation_result(expression, trial_num):\n",
    "    try:\n",
    "        user_message = f\"{expression} = ? Only answer the result, without any explanatory text.\"\n",
    "        \n",
    "        # Print the prompt for trial 1\n",
    "        if trial_num == 1:\n",
    "            print(f\"    PROMPT for Trial 1:\")\n",
    "            print(f\"    User: {user_message}\")\n",
    "            print()\n",
    "        \n",
    "        response = model.generate_content(user_message)\n",
    "        return response.text.strip()\n",
    "    except Exception as e:\n",
    "        return f\"Error: {e}\"\n",
    "\n",
    "# Create the test matrix\n",
    "expressions = []\n",
    "results_matrix = []\n",
    "\n",
    "print(\"Starting calculations...\")\n",
    "\n",
    "# Loop through i from 0 to 9\n",
    "for i in range(10, 21):\n",
    "    expression = f\"{i}.11 - {i}.9\"\n",
    "    expressions.append(expression)\n",
    "    \n",
    "    print(f\"Testing {expression}...\")\n",
    "    \n",
    "    # Test 5 times for each expression\n",
    "    trial_results = []\n",
    "    for trial in range(5):\n",
    "        result = get_calculation_result(expression, trial + 1)\n",
    "        trial_results.append(result)\n",
    "        print(f\"  Trial {trial + 1}: {result}\")\n",
    "        time.sleep(0.5)  # Small delay to avoid rate limiting\n",
    "    \n",
    "    results_matrix.append(trial_results)\n",
    "\n",
    "# Convert to numpy array\n",
    "results_array = np.array(results_matrix)\n",
    "\n",
    "# Create DataFrame for better display\n",
    "column_names = [f\"Trial {i+1}\" for i in range(5)]\n",
    "df = pd.DataFrame(results_array, index=expressions, columns=column_names)\n",
    "\n",
    "print(\"\\nFinal Results Matrix:\")\n",
    "print(df)\n",
    "\n",
    "# save df as csv\n",
    "df.to_csv('calculation_results_gemini.csv', index_label='Expression')\n",
    "\n",
    "# Save as numpy array if needed\n",
    "np.save('calculation_results_gemini.npy', results_array)\n",
    "print(\"\\nResults saved to 'calculation_results_gemini.npy'\")"
   ]
  }
 ],
 "metadata": {
  "kernelspec": {
   "display_name": "base",
   "language": "python",
   "name": "python3"
  },
  "language_info": {
   "codemirror_mode": {
    "name": "ipython",
    "version": 3
   },
   "file_extension": ".py",
   "mimetype": "text/x-python",
   "name": "python",
   "nbconvert_exporter": "python",
   "pygments_lexer": "ipython3",
   "version": "3.12.7"
  }
 },
 "nbformat": 4,
 "nbformat_minor": 5
}
